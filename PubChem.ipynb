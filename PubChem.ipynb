{
 "cells": [
  {
   "cell_type": "markdown",
   "id": "f5d18cd0-4dc8-4ceb-b25d-961ed86387ef",
   "metadata": {},
   "source": [
    "# PubChem Molecular Formula Search example"
   ]
  },
  {
   "cell_type": "markdown",
   "id": "5fd4660b-6c9f-4872-955b-62f7197e1909",
   "metadata": {},
   "source": [
    "In this example, we perform a `MolecularFormulaSearch` to request the smiles of all compounds on PubChem that contain C, H, B and Al elements exclusively."
   ]
  },
  {
   "cell_type": "code",
   "execution_count": 1,
   "id": "9554d017-dc1c-4884-9cf1-18a1dd35fa4c",
   "metadata": {},
   "outputs": [],
   "source": [
    "%load_ext autoreload\n",
    "%autoreload 2"
   ]
  },
  {
   "cell_type": "code",
   "execution_count": 2,
   "id": "134cb544-3471-4f4b-9ea2-2610820b57cf",
   "metadata": {},
   "outputs": [],
   "source": [
    "from pubchem_api_crawler.molecular_search import MolecularFormulaSearch"
   ]
  },
  {
   "cell_type": "code",
   "execution_count": 3,
   "id": "607f934f-a733-4cad-aff0-309ade522e52",
   "metadata": {},
   "outputs": [],
   "source": [
    "import logging\n",
    "\n",
    "logger = logging.getLogger('pubchem_api_crawler')\n",
    "logger.setLevel(logging.INFO)\n",
    "ch = logging.StreamHandler()\n",
    "ch.setFormatter(logging.Formatter('%(asctime)s - %(name)s - %(levelname)s - %(message)s'))\n",
    "logger.addHandler(ch)"
   ]
  },
  {
   "cell_type": "code",
   "execution_count": 12,
   "id": "401012eb-6fb1-44cd-8dcf-5b736999c6d1",
   "metadata": {},
   "outputs": [
    {
     "name": "stderr",
     "output_type": "stream",
     "text": [
      "2024-01-29 13:43:21,540 - pubchem_api_crawler.molecular_search - INFO - Exceuting Molecular Formula Search request: https://pubchem.ncbi.nlm.nih.gov/rest/pug/compound/fastformula/C1-H1-B1-Al2-/property/MolecularFormula,CanonicalSMILES/JSON?AllowOtherElements=false&MaxRecords=2000000\n",
      "2024-01-29 13:43:23,995 - pubchem_api_crawler.molecular_search - INFO - Request Count status: Green (0%), Request Time status: Green (0%), Service status: Green (13%)\n"
     ]
    }
   ],
   "source": [
    "mf = MolecularFormulaSearch()\n",
    "df = mf.search([\"C1-\", \"H1-\", \"B1-\", \"Al2-\"],allow_other_elements=False,properties=[\"MolecularFormula\", \"CanonicalSMILES\"])"
   ]
  },
  {
   "cell_type": "code",
   "execution_count": 13,
   "id": "bdfc3a4d-c8b5-4c9d-8a9e-21cd018fe533",
   "metadata": {},
   "outputs": [
    {
     "data": {
      "text/html": [
       "<div>\n",
       "<style scoped>\n",
       "    .dataframe tbody tr th:only-of-type {\n",
       "        vertical-align: middle;\n",
       "    }\n",
       "\n",
       "    .dataframe tbody tr th {\n",
       "        vertical-align: top;\n",
       "    }\n",
       "\n",
       "    .dataframe thead th {\n",
       "        text-align: right;\n",
       "    }\n",
       "</style>\n",
       "<table border=\"1\" class=\"dataframe\">\n",
       "  <thead>\n",
       "    <tr style=\"text-align: right;\">\n",
       "      <th></th>\n",
       "      <th>MolecularFormula</th>\n",
       "      <th>CanonicalSMILES</th>\n",
       "    </tr>\n",
       "    <tr>\n",
       "      <th>CID</th>\n",
       "      <th></th>\n",
       "      <th></th>\n",
       "    </tr>\n",
       "  </thead>\n",
       "  <tbody>\n",
       "    <tr>\n",
       "      <th>160469542</th>\n",
       "      <td>C8H26Al2B2</td>\n",
       "      <td>[B](C)C.[B](C)C.C[AlH]C.C[AlH]C</td>\n",
       "    </tr>\n",
       "    <tr>\n",
       "      <th>159970515</th>\n",
       "      <td>C20H48Al2B2</td>\n",
       "      <td>B(C)(CCB(C)CCC)CCC.CCC[Al](C)CC[Al](C)CCC</td>\n",
       "    </tr>\n",
       "  </tbody>\n",
       "</table>\n",
       "</div>"
      ],
      "text/plain": [
       "          MolecularFormula                            CanonicalSMILES\n",
       "CID                                                                  \n",
       "160469542       C8H26Al2B2            [B](C)C.[B](C)C.C[AlH]C.C[AlH]C\n",
       "159970515      C20H48Al2B2  B(C)(CCB(C)CCC)CCC.CCC[Al](C)CC[Al](C)CCC"
      ]
     },
     "execution_count": 13,
     "metadata": {},
     "output_type": "execute_result"
    }
   ],
   "source": [
    "df"
   ]
  },
  {
   "cell_type": "code",
   "execution_count": 28,
   "id": "47700c4c-331d-4252-84f0-1ba1736ec85c",
   "metadata": {},
   "outputs": [
    {
     "name": "stderr",
     "output_type": "stream",
     "text": [
      "2024-01-29 13:50:26,269 - pubchem_api_crawler.molecular_search - INFO - Exceuting Molecular Formula Search request: https://pubchem.ncbi.nlm.nih.gov/rest/pug/compound/fastformula/C1-200H1-200Al1-100/property/MolecularFormula,CanonicalSMILES/JSON?AllowOtherElements=true&MaxRecords=2000000\n",
      "2024-01-29 13:50:39,280 - pubchem_api_crawler.molecular_search - INFO - Request Count status: Green (0%), Request Time status: Green (0%), Service status: Green (13%)\n"
     ]
    },
    {
     "data": {
      "text/html": [
       "<div>\n",
       "<style scoped>\n",
       "    .dataframe tbody tr th:only-of-type {\n",
       "        vertical-align: middle;\n",
       "    }\n",
       "\n",
       "    .dataframe tbody tr th {\n",
       "        vertical-align: top;\n",
       "    }\n",
       "\n",
       "    .dataframe thead th {\n",
       "        text-align: right;\n",
       "    }\n",
       "</style>\n",
       "<table border=\"1\" class=\"dataframe\">\n",
       "  <thead>\n",
       "    <tr style=\"text-align: right;\">\n",
       "      <th></th>\n",
       "      <th>MolecularFormula</th>\n",
       "      <th>CanonicalSMILES</th>\n",
       "    </tr>\n",
       "    <tr>\n",
       "      <th>CID</th>\n",
       "      <th></th>\n",
       "      <th></th>\n",
       "    </tr>\n",
       "  </thead>\n",
       "  <tbody>\n",
       "    <tr>\n",
       "      <th>16683018</th>\n",
       "      <td>C9H15AlO9</td>\n",
       "      <td>CC(C(=O)O[Al](OC(=O)C(C)O)OC(=O)C(C)O)O</td>\n",
       "    </tr>\n",
       "    <tr>\n",
       "      <th>12496</th>\n",
       "      <td>C54H105AlO6</td>\n",
       "      <td>CCCCCCCCCCCCCCCCCC(=O)[O-].CCCCCCCCCCCCCCCCCC(...</td>\n",
       "    </tr>\n",
       "    <tr>\n",
       "      <th>8757</th>\n",
       "      <td>C6H9AlO6</td>\n",
       "      <td>CC(=O)[O-].CC(=O)[O-].CC(=O)[O-].[Al+3]</td>\n",
       "    </tr>\n",
       "    <tr>\n",
       "      <th>16682987</th>\n",
       "      <td>C18H39AlO4</td>\n",
       "      <td>CCCCCCCCCCCCCCCCCC(=O)O[Al].O.O</td>\n",
       "    </tr>\n",
       "    <tr>\n",
       "      <th>11237</th>\n",
       "      <td>C2H5AlCl2</td>\n",
       "      <td>CC[Al](Cl)Cl</td>\n",
       "    </tr>\n",
       "    <tr>\n",
       "      <th>...</th>\n",
       "      <td>...</td>\n",
       "      <td>...</td>\n",
       "    </tr>\n",
       "    <tr>\n",
       "      <th>169488426</th>\n",
       "      <td>CH9AlMgO11-4</td>\n",
       "      <td>C(=O)([O-])[O-].O.[OH-].[OH-].[OH-].[OH-].[OH-...</td>\n",
       "    </tr>\n",
       "    <tr>\n",
       "      <th>169490843</th>\n",
       "      <td>C66H57AlO39</td>\n",
       "      <td>CC1=C2C(=CC(=C1C(=O)O)O)C(=O)C3=C(C(=C(C(=C3C2...</td>\n",
       "    </tr>\n",
       "    <tr>\n",
       "      <th>169493512</th>\n",
       "      <td>C18H17AlNO2+</td>\n",
       "      <td>CC1=C(C(=CC=C1)C)[O-].CC1=NC2=C(C=CC=C2[O-])C=...</td>\n",
       "    </tr>\n",
       "    <tr>\n",
       "      <th>169550479</th>\n",
       "      <td>C32H16AlClN8O6S2</td>\n",
       "      <td>C1=CC=C2C(=C1)C3=NC4=C5C=CC(=CC5=C6N4[Al](N7C(...</td>\n",
       "    </tr>\n",
       "    <tr>\n",
       "      <th>169550633</th>\n",
       "      <td>C2H7AlNa+3</td>\n",
       "      <td>[H-].CC.[Na+].[Al+3]</td>\n",
       "    </tr>\n",
       "  </tbody>\n",
       "</table>\n",
       "<p>45785 rows × 2 columns</p>\n",
       "</div>"
      ],
      "text/plain": [
       "           MolecularFormula                                    CanonicalSMILES\n",
       "CID                                                                           \n",
       "16683018          C9H15AlO9            CC(C(=O)O[Al](OC(=O)C(C)O)OC(=O)C(C)O)O\n",
       "12496           C54H105AlO6  CCCCCCCCCCCCCCCCCC(=O)[O-].CCCCCCCCCCCCCCCCCC(...\n",
       "8757               C6H9AlO6            CC(=O)[O-].CC(=O)[O-].CC(=O)[O-].[Al+3]\n",
       "16682987         C18H39AlO4                    CCCCCCCCCCCCCCCCCC(=O)O[Al].O.O\n",
       "11237             C2H5AlCl2                                       CC[Al](Cl)Cl\n",
       "...                     ...                                                ...\n",
       "169488426      CH9AlMgO11-4  C(=O)([O-])[O-].O.[OH-].[OH-].[OH-].[OH-].[OH-...\n",
       "169490843       C66H57AlO39  CC1=C2C(=CC(=C1C(=O)O)O)C(=O)C3=C(C(=C(C(=C3C2...\n",
       "169493512      C18H17AlNO2+  CC1=C(C(=CC=C1)C)[O-].CC1=NC2=C(C=CC=C2[O-])C=...\n",
       "169550479  C32H16AlClN8O6S2  C1=CC=C2C(=C1)C3=NC4=C5C=CC(=CC5=C6N4[Al](N7C(...\n",
       "169550633        C2H7AlNa+3                               [H-].CC.[Na+].[Al+3]\n",
       "\n",
       "[45785 rows x 2 columns]"
      ]
     },
     "execution_count": 28,
     "metadata": {},
     "output_type": "execute_result"
    }
   ],
   "source": [
    "df = mf.search([\"C1-200\", \"H1-200\", \"Al1-100\"], allow_other_elements=True,properties=[\"MolecularFormula\", \"CanonicalSMILES\"])\n",
    "df"
   ]
  },
  {
   "cell_type": "code",
   "execution_count": 25,
   "id": "d70f343f-c6c6-48d8-956b-06d8d95d7c1e",
   "metadata": {},
   "outputs": [
    {
     "data": {
      "text/plain": [
       "(19, 2)"
      ]
     },
     "execution_count": 25,
     "metadata": {},
     "output_type": "execute_result"
    }
   ],
   "source": [
    "df.shape"
   ]
  },
  {
   "cell_type": "code",
   "execution_count": 17,
   "id": "e2994dff-388e-4103-a7d1-436b2f865b5f",
   "metadata": {},
   "outputs": [
    {
     "name": "stderr",
     "output_type": "stream",
     "text": [
      "2024-01-29 13:44:56,097 - pubchem_api_crawler.molecular_search - INFO - Checking status for query 1078300897660591343.\n",
      "2024-01-29 13:44:57,006 - pubchem_api_crawler.molecular_search - INFO - Query 1078300897660591343 is success.\n"
     ]
    }
   ],
   "source": [
    "res = mf._pug_search([\"C1-\", \"H1-\", \"B-\", \"Al-\"],allow_other_elements=False,properties=[\"MolecularFormula\", \"CanonicalSMILES\"])"
   ]
  },
  {
   "cell_type": "code",
   "execution_count": 18,
   "id": "25a776c8-e317-4f77-afa4-fe55343c0ec0",
   "metadata": {},
   "outputs": [
    {
     "data": {
      "text/html": [
       "<div>\n",
       "<style scoped>\n",
       "    .dataframe tbody tr th:only-of-type {\n",
       "        vertical-align: middle;\n",
       "    }\n",
       "\n",
       "    .dataframe tbody tr th {\n",
       "        vertical-align: top;\n",
       "    }\n",
       "\n",
       "    .dataframe thead th {\n",
       "        text-align: right;\n",
       "    }\n",
       "</style>\n",
       "<table border=\"1\" class=\"dataframe\">\n",
       "  <thead>\n",
       "    <tr style=\"text-align: right;\">\n",
       "      <th></th>\n",
       "    </tr>\n",
       "    <tr>\n",
       "      <th>CID</th>\n",
       "    </tr>\n",
       "  </thead>\n",
       "  <tbody>\n",
       "    <tr>\n",
       "      <th>168084494</th>\n",
       "    </tr>\n",
       "    <tr>\n",
       "      <th>163556649</th>\n",
       "    </tr>\n",
       "    <tr>\n",
       "      <th>161576177</th>\n",
       "    </tr>\n",
       "    <tr>\n",
       "      <th>160352291</th>\n",
       "    </tr>\n",
       "    <tr>\n",
       "      <th>159123289</th>\n",
       "    </tr>\n",
       "    <tr>\n",
       "      <th>158802573</th>\n",
       "    </tr>\n",
       "    <tr>\n",
       "      <th>158250967</th>\n",
       "    </tr>\n",
       "    <tr>\n",
       "      <th>158044531</th>\n",
       "    </tr>\n",
       "    <tr>\n",
       "      <th>157093180</th>\n",
       "    </tr>\n",
       "    <tr>\n",
       "      <th>156888304</th>\n",
       "    </tr>\n",
       "    <tr>\n",
       "      <th>129859217</th>\n",
       "    </tr>\n",
       "    <tr>\n",
       "      <th>129657578</th>\n",
       "    </tr>\n",
       "    <tr>\n",
       "      <th>129657197</th>\n",
       "    </tr>\n",
       "    <tr>\n",
       "      <th>59992955</th>\n",
       "    </tr>\n",
       "    <tr>\n",
       "      <th>22996618</th>\n",
       "    </tr>\n",
       "    <tr>\n",
       "      <th>19734271</th>\n",
       "    </tr>\n",
       "    <tr>\n",
       "      <th>155575130</th>\n",
       "    </tr>\n",
       "  </tbody>\n",
       "</table>\n",
       "</div>"
      ],
      "text/plain": [
       "Empty DataFrame\n",
       "Columns: []\n",
       "Index: [168084494, 163556649, 161576177, 160352291, 159123289, 158802573, 158250967, 158044531, 157093180, 156888304, 129859217, 129657578, 129657197, 59992955, 22996618, 19734271, 155575130]"
      ]
     },
     "execution_count": 18,
     "metadata": {},
     "output_type": "execute_result"
    }
   ],
   "source": [
    "res"
   ]
  },
  {
   "cell_type": "code",
   "execution_count": 19,
   "id": "4ed63a5c-674d-4afe-9588-aa197c500457",
   "metadata": {},
   "outputs": [
    {
     "data": {
      "text/plain": [
       "17"
      ]
     },
     "execution_count": 19,
     "metadata": {},
     "output_type": "execute_result"
    }
   ],
   "source": [
    "len(res)"
   ]
  },
  {
   "cell_type": "code",
   "execution_count": null,
   "id": "846ea11d-dd64-4aab-a748-a52efa57a3bb",
   "metadata": {},
   "outputs": [],
   "source": []
  }
 ],
 "metadata": {
  "kernelspec": {
   "display_name": "Python 3 (ipykernel)",
   "language": "python",
   "name": "python3"
  },
  "language_info": {
   "codemirror_mode": {
    "name": "ipython",
    "version": 3
   },
   "file_extension": ".py",
   "mimetype": "text/x-python",
   "name": "python",
   "nbconvert_exporter": "python",
   "pygments_lexer": "ipython3",
   "version": "3.11.5"
  }
 },
 "nbformat": 4,
 "nbformat_minor": 5
}

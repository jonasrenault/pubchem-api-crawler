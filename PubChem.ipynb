{
 "cells": [
  {
   "cell_type": "markdown",
   "id": "f5d18cd0-4dc8-4ceb-b25d-961ed86387ef",
   "metadata": {},
   "source": [
    "# PubChem Molecular Formula Search example"
   ]
  },
  {
   "cell_type": "markdown",
   "id": "5fd4660b-6c9f-4872-955b-62f7197e1909",
   "metadata": {},
   "source": [
    "In this example, we perform a `MolecularFormulaSearch` to request the smiles of all compounds on PubChem that contain C, H, B and Al elements exclusively."
   ]
  },
  {
   "cell_type": "code",
   "execution_count": 1,
   "id": "9554d017-dc1c-4884-9cf1-18a1dd35fa4c",
   "metadata": {},
   "outputs": [],
   "source": [
    "%load_ext autoreload\n",
    "%autoreload 2"
   ]
  },
  {
   "cell_type": "code",
   "execution_count": 2,
   "id": "134cb544-3471-4f4b-9ea2-2610820b57cf",
   "metadata": {},
   "outputs": [],
   "source": [
    "from pubchem_api_crawler.molecular_search import MolecularFormulaSearch"
   ]
  },
  {
   "cell_type": "code",
   "execution_count": 3,
   "id": "607f934f-a733-4cad-aff0-309ade522e52",
   "metadata": {},
   "outputs": [],
   "source": [
    "import logging\n",
    "\n",
    "logger = logging.getLogger('pubchem_api_crawler')\n",
    "logger.setLevel(logging.INFO)\n",
    "ch = logging.StreamHandler()\n",
    "ch.setFormatter(logging.Formatter('%(asctime)s - %(name)s - %(levelname)s - %(message)s'))\n",
    "logger.addHandler(ch)"
   ]
  },
  {
   "cell_type": "code",
   "execution_count": 14,
   "id": "401012eb-6fb1-44cd-8dcf-5b736999c6d1",
   "metadata": {},
   "outputs": [
    {
     "name": "stderr",
     "output_type": "stream",
     "text": [
      "2024-01-29 17:33:16,059 - pubchem_api_crawler.molecular_search - INFO - Executing Molecular Formula Search query: https://pubchem.ncbi.nlm.nih.gov/rest/pug/compound/formula/C1-100H1-200/property/MolecularFormula,CanonicalSMILES/JSON?AllowOtherElements=true&MaxRecords=1000000\n",
      "2024-01-29 17:33:17,280 - pubchem_api_crawler.molecular_search - INFO - Request Count status: Green (0%), Request Time status: Green (0%), Service status: Green (13%)\n",
      "2024-01-29 17:33:27,290 - pubchem_api_crawler.molecular_search - INFO - Checking status for query 748624608577630607.\n",
      "2024-01-29 17:33:27,292 - pubchem_api_crawler.molecular_search - INFO - Executing Molecular Formula Search query: https://pubchem.ncbi.nlm.nih.gov/rest/pug/compound/listkey/748624608577630607/property/MolecularFormula,CanonicalSMILES/JSON?listkey_count=2\n",
      "2024-01-29 17:33:28,336 - pubchem_api_crawler.molecular_search - INFO - Request Count status: Green (0%), Request Time status: Green (0%), Service status: Green (7%)\n",
      "2024-01-29 17:33:28,341 - pubchem_api_crawler.molecular_search - INFO - Query is still running.\n",
      "2024-01-29 17:33:38,347 - pubchem_api_crawler.molecular_search - INFO - Checking status for query 748624608577630607.\n",
      "2024-01-29 17:33:38,349 - pubchem_api_crawler.molecular_search - INFO - Executing Molecular Formula Search query: https://pubchem.ncbi.nlm.nih.gov/rest/pug/compound/listkey/748624608577630607/property/MolecularFormula,CanonicalSMILES/JSON?listkey_count=2\n",
      "2024-01-29 17:33:39,309 - pubchem_api_crawler.molecular_search - INFO - Request Count status: Green (0%), Request Time status: Green (0%), Service status: Green (13%)\n",
      "2024-01-29 17:33:39,314 - pubchem_api_crawler.molecular_search - INFO - Query is still running.\n",
      "2024-01-29 17:33:49,320 - pubchem_api_crawler.molecular_search - INFO - Checking status for query 748624608577630607.\n",
      "2024-01-29 17:33:49,322 - pubchem_api_crawler.molecular_search - INFO - Executing Molecular Formula Search query: https://pubchem.ncbi.nlm.nih.gov/rest/pug/compound/listkey/748624608577630607/property/MolecularFormula,CanonicalSMILES/JSON?listkey_count=2\n",
      "2024-01-29 17:33:52,630 - pubchem_api_crawler.molecular_search - INFO - Request Count status: Green (1%), Request Time status: Green (0%), Service status: Green (17%)\n",
      "2024-01-29 17:33:52,636 - pubchem_api_crawler.molecular_search - INFO - Retrieving async search results.\n",
      "  0%|                                                                                                                | 0/10 [00:00<?, ?it/s]2024-01-29 17:33:52,667 - pubchem_api_crawler.molecular_search - INFO - Executing Molecular Formula Search query: https://pubchem.ncbi.nlm.nih.gov/rest/pug/compound/listkey/748624608577630607/property/MolecularFormula,CanonicalSMILES/JSON?listkey_count=100000\n",
      "2024-01-29 17:34:07,552 - pubchem_api_crawler.molecular_search - INFO - Request Count status: Green (0%), Request Time status: Green (0%), Service status: Green (20%)\n",
      " 10%|██████████▍                                                                                             | 1/10 [00:14<02:14, 14.99s/it]2024-01-29 17:34:07,661 - pubchem_api_crawler.molecular_search - INFO - Executing Molecular Formula Search query: https://pubchem.ncbi.nlm.nih.gov/rest/pug/compound/listkey/748624608577630607/property/MolecularFormula,CanonicalSMILES/JSON?listkey_count=100000&listkey_start=100000\n",
      "2024-01-29 17:34:29,582 - pubchem_api_crawler.molecular_search - INFO - Request Count status: Green (1%), Request Time status: Green (1%), Service status: Green (27%)\n",
      " 20%|████████████████████▊                                                                                   | 2/10 [00:37<02:32, 19.12s/it]2024-01-29 17:34:29,668 - pubchem_api_crawler.molecular_search - INFO - Executing Molecular Formula Search query: https://pubchem.ncbi.nlm.nih.gov/rest/pug/compound/listkey/748624608577630607/property/MolecularFormula,CanonicalSMILES/JSON?listkey_count=100000&listkey_start=200000\n",
      "2024-01-29 17:34:45,372 - pubchem_api_crawler.molecular_search - INFO - Request Count status: Green (0%), Request Time status: Green (4%), Service status: Green (20%)\n",
      " 30%|███████████████████████████████▏                                                                        | 3/10 [00:52<02:03, 17.60s/it]2024-01-29 17:34:45,455 - pubchem_api_crawler.molecular_search - INFO - Executing Molecular Formula Search query: https://pubchem.ncbi.nlm.nih.gov/rest/pug/compound/listkey/748624608577630607/property/MolecularFormula,CanonicalSMILES/JSON?listkey_count=100000&listkey_start=300000\n",
      "2024-01-29 17:34:57,006 - pubchem_api_crawler.molecular_search - INFO - Request Count status: Green (1%), Request Time status: Green (8%), Service status: Green (10%)\n",
      " 40%|█████████████████████████████████████████▌                                                              | 4/10 [01:04<01:31, 15.24s/it]2024-01-29 17:34:57,086 - pubchem_api_crawler.molecular_search - INFO - Executing Molecular Formula Search query: https://pubchem.ncbi.nlm.nih.gov/rest/pug/compound/listkey/748624608577630607/property/MolecularFormula,CanonicalSMILES/JSON?listkey_count=100000&listkey_start=400000\n",
      "2024-01-29 17:35:12,416 - pubchem_api_crawler.molecular_search - INFO - Request Count status: Green (1%), Request Time status: Green (11%), Service status: Green (23%)\n",
      " 50%|████████████████████████████████████████████████████                                                    | 5/10 [01:19<01:16, 15.30s/it]2024-01-29 17:35:12,482 - pubchem_api_crawler.molecular_search - INFO - Executing Molecular Formula Search query: https://pubchem.ncbi.nlm.nih.gov/rest/pug/compound/listkey/748624608577630607/property/MolecularFormula,CanonicalSMILES/JSON?listkey_count=100000&listkey_start=500000\n",
      "2024-01-29 17:35:23,198 - pubchem_api_crawler.molecular_search - INFO - Request Count status: Green (1%), Request Time status: Green (11%), Service status: Green (13%)\n",
      " 60%|██████████████████████████████████████████████████████████████▍                                         | 6/10 [01:30<00:55, 13.77s/it]2024-01-29 17:35:23,280 - pubchem_api_crawler.molecular_search - INFO - Executing Molecular Formula Search query: https://pubchem.ncbi.nlm.nih.gov/rest/pug/compound/listkey/748624608577630607/property/MolecularFormula,CanonicalSMILES/JSON?listkey_count=100000&listkey_start=600000\n",
      "2024-01-29 17:35:40,610 - pubchem_api_crawler.molecular_search - INFO - Request Count status: Green (1%), Request Time status: Green (14%), Service status: Green (13%)\n",
      " 70%|████████████████████████████████████████████████████████████████████████▊                               | 7/10 [01:48<00:44, 14.96s/it]2024-01-29 17:35:40,693 - pubchem_api_crawler.molecular_search - INFO - Executing Molecular Formula Search query: https://pubchem.ncbi.nlm.nih.gov/rest/pug/compound/listkey/748624608577630607/property/MolecularFormula,CanonicalSMILES/JSON?listkey_count=100000&listkey_start=700000\n",
      "2024-01-29 17:35:59,823 - pubchem_api_crawler.molecular_search - INFO - Request Count status: Green (0%), Request Time status: Green (0%), Service status: Green (10%)\n",
      " 80%|███████████████████████████████████████████████████████████████████████████████████▏                    | 8/10 [02:07<00:32, 16.31s/it]2024-01-29 17:35:59,905 - pubchem_api_crawler.molecular_search - INFO - Executing Molecular Formula Search query: https://pubchem.ncbi.nlm.nih.gov/rest/pug/compound/listkey/748624608577630607/property/MolecularFormula,CanonicalSMILES/JSON?listkey_count=100000&listkey_start=800000\n",
      "2024-01-29 17:36:10,830 - pubchem_api_crawler.molecular_search - INFO - Request Count status: Green (1%), Request Time status: Green (12%), Service status: Green (7%)\n",
      " 90%|█████████████████████████████████████████████████████████████████████████████████████████████▌          | 9/10 [02:18<00:14, 14.65s/it]2024-01-29 17:36:10,911 - pubchem_api_crawler.molecular_search - INFO - Executing Molecular Formula Search query: https://pubchem.ncbi.nlm.nih.gov/rest/pug/compound/listkey/748624608577630607/property/MolecularFormula,CanonicalSMILES/JSON?listkey_count=100000&listkey_start=900000\n",
      "2024-01-29 17:36:21,310 - pubchem_api_crawler.molecular_search - INFO - Request Count status: Green (1%), Request Time status: Green (11%), Service status: Green (3%)\n",
      "100%|███████████████████████████████████████████████████████████████████████████████████████████████████████| 10/10 [02:28<00:00, 14.87s/it]\n"
     ]
    }
   ],
   "source": [
    "mf = MolecularFormulaSearch()\n",
    "df = mf.search([\"C1-100\", \"H1-200\"], allow_other_elements=True, properties=[\"MolecularFormula\", \"CanonicalSMILES\"], _async=True, max_results=1000000)"
   ]
  },
  {
   "cell_type": "code",
   "execution_count": 15,
   "id": "bdfc3a4d-c8b5-4c9d-8a9e-21cd018fe533",
   "metadata": {},
   "outputs": [
    {
     "data": {
      "text/html": [
       "<div>\n",
       "<style scoped>\n",
       "    .dataframe tbody tr th:only-of-type {\n",
       "        vertical-align: middle;\n",
       "    }\n",
       "\n",
       "    .dataframe tbody tr th {\n",
       "        vertical-align: top;\n",
       "    }\n",
       "\n",
       "    .dataframe thead th {\n",
       "        text-align: right;\n",
       "    }\n",
       "</style>\n",
       "<table border=\"1\" class=\"dataframe\">\n",
       "  <thead>\n",
       "    <tr style=\"text-align: right;\">\n",
       "      <th></th>\n",
       "      <th>MolecularFormula</th>\n",
       "      <th>CanonicalSMILES</th>\n",
       "    </tr>\n",
       "    <tr>\n",
       "      <th>CID</th>\n",
       "      <th></th>\n",
       "      <th></th>\n",
       "    </tr>\n",
       "  </thead>\n",
       "  <tbody>\n",
       "    <tr>\n",
       "      <th>137348964</th>\n",
       "      <td>C62H89CoN13O14P-</td>\n",
       "      <td>CC1=CC2=C(C=C1C)N(C=N2)C3C(C(C(O3)CO)OP(=O)(O)...</td>\n",
       "    </tr>\n",
       "    <tr>\n",
       "      <th>156587311</th>\n",
       "      <td>C63H89CoN14O14P-2</td>\n",
       "      <td>CC1=CC2=C(C=C1C)N(C=N2)C3C(C(C(O3)CO)OP(=O)(O)...</td>\n",
       "    </tr>\n",
       "    <tr>\n",
       "      <th>146018665</th>\n",
       "      <td>C34H32CrN4O4-2</td>\n",
       "      <td>CC1=C(C2=CC3=NC(=CC4=C(C(=C([N-]4)C=C5C(=C(C(=...</td>\n",
       "    </tr>\n",
       "    <tr>\n",
       "      <th>169501776</th>\n",
       "      <td>C30H25KN4O8</td>\n",
       "      <td>[H-].CCOC1=NC2=CC=CC(=C2N1CC3=CC=C(C=C3)C4=CC=...</td>\n",
       "    </tr>\n",
       "    <tr>\n",
       "      <th>169494539</th>\n",
       "      <td>C9H11NO6</td>\n",
       "      <td>C1=C(C(=O)NC1=O)C2C(C(C(O2)CO)O)O</td>\n",
       "    </tr>\n",
       "    <tr>\n",
       "      <th>...</th>\n",
       "      <td>...</td>\n",
       "      <td>...</td>\n",
       "    </tr>\n",
       "    <tr>\n",
       "      <th>5</th>\n",
       "      <td>C3H8NO5P</td>\n",
       "      <td>C(C(=O)COP(=O)(O)O)N</td>\n",
       "    </tr>\n",
       "    <tr>\n",
       "      <th>4</th>\n",
       "      <td>C3H9NO</td>\n",
       "      <td>CC(CN)O</td>\n",
       "    </tr>\n",
       "    <tr>\n",
       "      <th>3</th>\n",
       "      <td>C7H8O4</td>\n",
       "      <td>C1=CC(C(C(=C1)C(=O)O)O)O</td>\n",
       "    </tr>\n",
       "    <tr>\n",
       "      <th>2</th>\n",
       "      <td>C9H18NO4+</td>\n",
       "      <td>CC(=O)OC(CC(=O)O)C[N+](C)(C)C</td>\n",
       "    </tr>\n",
       "    <tr>\n",
       "      <th>1</th>\n",
       "      <td>C9H17NO4</td>\n",
       "      <td>CC(=O)OC(CC(=O)[O-])C[N+](C)(C)C</td>\n",
       "    </tr>\n",
       "  </tbody>\n",
       "</table>\n",
       "<p>1000000 rows × 2 columns</p>\n",
       "</div>"
      ],
      "text/plain": [
       "            MolecularFormula  \\\n",
       "CID                            \n",
       "137348964   C62H89CoN13O14P-   \n",
       "156587311  C63H89CoN14O14P-2   \n",
       "146018665     C34H32CrN4O4-2   \n",
       "169501776        C30H25KN4O8   \n",
       "169494539           C9H11NO6   \n",
       "...                      ...   \n",
       "5                   C3H8NO5P   \n",
       "4                     C3H9NO   \n",
       "3                     C7H8O4   \n",
       "2                  C9H18NO4+   \n",
       "1                   C9H17NO4   \n",
       "\n",
       "                                             CanonicalSMILES  \n",
       "CID                                                           \n",
       "137348964  CC1=CC2=C(C=C1C)N(C=N2)C3C(C(C(O3)CO)OP(=O)(O)...  \n",
       "156587311  CC1=CC2=C(C=C1C)N(C=N2)C3C(C(C(O3)CO)OP(=O)(O)...  \n",
       "146018665  CC1=C(C2=CC3=NC(=CC4=C(C(=C([N-]4)C=C5C(=C(C(=...  \n",
       "169501776  [H-].CCOC1=NC2=CC=CC(=C2N1CC3=CC=C(C=C3)C4=CC=...  \n",
       "169494539                  C1=C(C(=O)NC1=O)C2C(C(C(O2)CO)O)O  \n",
       "...                                                      ...  \n",
       "5                                       C(C(=O)COP(=O)(O)O)N  \n",
       "4                                                    CC(CN)O  \n",
       "3                                   C1=CC(C(C(=C1)C(=O)O)O)O  \n",
       "2                              CC(=O)OC(CC(=O)O)C[N+](C)(C)C  \n",
       "1                           CC(=O)OC(CC(=O)[O-])C[N+](C)(C)C  \n",
       "\n",
       "[1000000 rows x 2 columns]"
      ]
     },
     "execution_count": 15,
     "metadata": {},
     "output_type": "execute_result"
    }
   ],
   "source": [
    "df"
   ]
  },
  {
   "cell_type": "code",
   "execution_count": null,
   "id": "47700c4c-331d-4252-84f0-1ba1736ec85c",
   "metadata": {},
   "outputs": [],
   "source": [
    "df = mf.search([\"C1-\", \"H1-\", \"B1-\", \"Al1-\"], allow_other_elements=False,properties=[\"MolecularFormula\", \"CanonicalSMILES\"])\n",
    "df"
   ]
  },
  {
   "cell_type": "code",
   "execution_count": null,
   "id": "d70f343f-c6c6-48d8-956b-06d8d95d7c1e",
   "metadata": {},
   "outputs": [],
   "source": [
    "df.shape"
   ]
  },
  {
   "cell_type": "code",
   "execution_count": null,
   "id": "e2994dff-388e-4103-a7d1-436b2f865b5f",
   "metadata": {},
   "outputs": [],
   "source": [
    "res = mf._pug_search([\"C1-\", \"H1-\", \"B-\", \"Al-\"],allow_other_elements=False,properties=[\"MolecularFormula\", \"CanonicalSMILES\"])"
   ]
  },
  {
   "cell_type": "code",
   "execution_count": null,
   "id": "25a776c8-e317-4f77-afa4-fe55343c0ec0",
   "metadata": {},
   "outputs": [],
   "source": [
    "res"
   ]
  },
  {
   "cell_type": "code",
   "execution_count": null,
   "id": "4ed63a5c-674d-4afe-9588-aa197c500457",
   "metadata": {},
   "outputs": [],
   "source": [
    "mf._get_properties_for_cids(res, [\"MolecularFormula\", \"CanonicalSMILES\"])"
   ]
  },
  {
   "cell_type": "code",
   "execution_count": null,
   "id": "846ea11d-dd64-4aab-a748-a52efa57a3bb",
   "metadata": {},
   "outputs": [],
   "source": [
    "res"
   ]
  },
  {
   "cell_type": "code",
   "execution_count": null,
   "id": "66103064-f526-4b7c-8bab-57671bb4f5e6",
   "metadata": {},
   "outputs": [],
   "source": []
  }
 ],
 "metadata": {
  "kernelspec": {
   "display_name": "Python 3 (ipykernel)",
   "language": "python",
   "name": "python3"
  },
  "language_info": {
   "codemirror_mode": {
    "name": "ipython",
    "version": 3
   },
   "file_extension": ".py",
   "mimetype": "text/x-python",
   "name": "python",
   "nbconvert_exporter": "python",
   "pygments_lexer": "ipython3",
   "version": "3.11.5"
  }
 },
 "nbformat": 4,
 "nbformat_minor": 5
}

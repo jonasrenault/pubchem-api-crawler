{
 "cells": [
  {
   "cell_type": "markdown",
   "id": "f5d18cd0-4dc8-4ceb-b25d-961ed86387ef",
   "metadata": {},
   "source": [
    "# PubChem Molecular Formula Search example"
   ]
  },
  {
   "cell_type": "markdown",
   "id": "5fd4660b-6c9f-4872-955b-62f7197e1909",
   "metadata": {},
   "source": [
    "In this example, we perform a `MolecularFormulaSearch` to request the smiles of all compounds on PubChem that contain C, H, B and Al elements exclusively."
   ]
  },
  {
   "cell_type": "code",
   "execution_count": 1,
   "id": "9554d017-dc1c-4884-9cf1-18a1dd35fa4c",
   "metadata": {},
   "outputs": [],
   "source": [
    "%load_ext autoreload\n",
    "%autoreload 2"
   ]
  },
  {
   "cell_type": "code",
   "execution_count": 2,
   "id": "134cb544-3471-4f4b-9ea2-2610820b57cf",
   "metadata": {},
   "outputs": [],
   "source": [
    "from pubchem_api_crawler.molecular_search import MolecularFormulaSearch"
   ]
  },
  {
   "cell_type": "code",
   "execution_count": 3,
   "id": "607f934f-a733-4cad-aff0-309ade522e52",
   "metadata": {},
   "outputs": [],
   "source": [
    "import logging\n",
    "\n",
    "logger = logging.getLogger('pubchem_api_crawler')\n",
    "logger.setLevel(logging.INFO)\n",
    "ch = logging.StreamHandler()\n",
    "ch.setFormatter(logging.Formatter('%(asctime)s - %(name)s - %(levelname)s - %(message)s'))\n",
    "logger.addHandler(ch)"
   ]
  },
  {
   "cell_type": "code",
   "execution_count": 12,
   "id": "401012eb-6fb1-44cd-8dcf-5b736999c6d1",
   "metadata": {},
   "outputs": [
    {
     "name": "stderr",
     "output_type": "stream",
     "text": [
      "2024-01-29 13:43:21,540 - pubchem_api_crawler.molecular_search - INFO - Exceuting Molecular Formula Search request: https://pubchem.ncbi.nlm.nih.gov/rest/pug/compound/fastformula/C1-H1-B1-Al2-/property/MolecularFormula,CanonicalSMILES/JSON?AllowOtherElements=false&MaxRecords=2000000\n",
      "2024-01-29 13:43:23,995 - pubchem_api_crawler.molecular_search - INFO - Request Count status: Green (0%), Request Time status: Green (0%), Service status: Green (13%)\n"
     ]
    }
   ],
   "source": [
    "mf = MolecularFormulaSearch()\n",
    "df = mf.search([\"C1-\", \"H1-\", \"B1-\", \"Al2-\"],allow_other_elements=False,properties=[\"MolecularFormula\", \"CanonicalSMILES\"])"
   ]
  },
  {
   "cell_type": "code",
   "execution_count": 13,
   "id": "bdfc3a4d-c8b5-4c9d-8a9e-21cd018fe533",
   "metadata": {},
   "outputs": [
    {
     "data": {
      "text/html": [
       "<div>\n",
       "<style scoped>\n",
       "    .dataframe tbody tr th:only-of-type {\n",
       "        vertical-align: middle;\n",
       "    }\n",
       "\n",
       "    .dataframe tbody tr th {\n",
       "        vertical-align: top;\n",
       "    }\n",
       "\n",
       "    .dataframe thead th {\n",
       "        text-align: right;\n",
       "    }\n",
       "</style>\n",
       "<table border=\"1\" class=\"dataframe\">\n",
       "  <thead>\n",
       "    <tr style=\"text-align: right;\">\n",
       "      <th></th>\n",
       "      <th>MolecularFormula</th>\n",
       "      <th>CanonicalSMILES</th>\n",
       "    </tr>\n",
       "    <tr>\n",
       "      <th>CID</th>\n",
       "      <th></th>\n",
       "      <th></th>\n",
       "    </tr>\n",
       "  </thead>\n",
       "  <tbody>\n",
       "    <tr>\n",
       "      <th>160469542</th>\n",
       "      <td>C8H26Al2B2</td>\n",
       "      <td>[B](C)C.[B](C)C.C[AlH]C.C[AlH]C</td>\n",
       "    </tr>\n",
       "    <tr>\n",
       "      <th>159970515</th>\n",
       "      <td>C20H48Al2B2</td>\n",
       "      <td>B(C)(CCB(C)CCC)CCC.CCC[Al](C)CC[Al](C)CCC</td>\n",
       "    </tr>\n",
       "  </tbody>\n",
       "</table>\n",
       "</div>"
      ],
      "text/plain": [
       "          MolecularFormula                            CanonicalSMILES\n",
       "CID                                                                  \n",
       "160469542       C8H26Al2B2            [B](C)C.[B](C)C.C[AlH]C.C[AlH]C\n",
       "159970515      C20H48Al2B2  B(C)(CCB(C)CCC)CCC.CCC[Al](C)CC[Al](C)CCC"
      ]
     },
     "execution_count": 13,
     "metadata": {},
     "output_type": "execute_result"
    }
   ],
   "source": [
    "df"
   ]
  },
  {
   "cell_type": "code",
   "execution_count": 38,
   "id": "47700c4c-331d-4252-84f0-1ba1736ec85c",
   "metadata": {},
   "outputs": [
    {
     "name": "stderr",
     "output_type": "stream",
     "text": [
      "2024-01-29 14:17:20,717 - pubchem_api_crawler.molecular_search - INFO - Exceuting Molecular Formula Search request: https://pubchem.ncbi.nlm.nih.gov/rest/pug/compound/fastformula/C1-H1-B1-Al1-/property/MolecularFormula,CanonicalSMILES/JSON?AllowOtherElements=false&MaxRecords=2000000\n",
      "2024-01-29 14:17:22,055 - pubchem_api_crawler.molecular_search - INFO - Request Count status: Green (0%), Request Time status: Green (0%), Service status: Green (17%)\n"
     ]
    },
    {
     "data": {
      "text/html": [
       "<div>\n",
       "<style scoped>\n",
       "    .dataframe tbody tr th:only-of-type {\n",
       "        vertical-align: middle;\n",
       "    }\n",
       "\n",
       "    .dataframe tbody tr th {\n",
       "        vertical-align: top;\n",
       "    }\n",
       "\n",
       "    .dataframe thead th {\n",
       "        text-align: right;\n",
       "    }\n",
       "</style>\n",
       "<table border=\"1\" class=\"dataframe\">\n",
       "  <thead>\n",
       "    <tr style=\"text-align: right;\">\n",
       "      <th></th>\n",
       "      <th>MolecularFormula</th>\n",
       "      <th>CanonicalSMILES</th>\n",
       "    </tr>\n",
       "    <tr>\n",
       "      <th>CID</th>\n",
       "      <th></th>\n",
       "      <th></th>\n",
       "    </tr>\n",
       "  </thead>\n",
       "  <tbody>\n",
       "    <tr>\n",
       "      <th>168084494</th>\n",
       "      <td>CH5AlB2</td>\n",
       "      <td>[BH].[BH].C[Al]</td>\n",
       "    </tr>\n",
       "    <tr>\n",
       "      <th>163556649</th>\n",
       "      <td>C16H14AlB</td>\n",
       "      <td>[B]CCC1=C2CCC=CC2=C(C3=CC=CC=C31)[Al]</td>\n",
       "    </tr>\n",
       "    <tr>\n",
       "      <th>161576177</th>\n",
       "      <td>C27H30AlB</td>\n",
       "      <td>[H+].[B-](C1=CC=CC=C1)(C2=CC=CC=C2)(C3=CC=CC=C...</td>\n",
       "    </tr>\n",
       "    <tr>\n",
       "      <th>160352291</th>\n",
       "      <td>C6H15AlB</td>\n",
       "      <td>[B].CC[Al](CC)CC</td>\n",
       "    </tr>\n",
       "    <tr>\n",
       "      <th>159123289</th>\n",
       "      <td>C10H28AlB2</td>\n",
       "      <td>[B](C)C.[B](C)C.CCCC.C[Al]C</td>\n",
       "    </tr>\n",
       "    <tr>\n",
       "      <th>158802573</th>\n",
       "      <td>C11H29AlB</td>\n",
       "      <td>B(C)(C)C.CCCC.CC[Al]CC</td>\n",
       "    </tr>\n",
       "    <tr>\n",
       "      <th>158250967</th>\n",
       "      <td>C3H9AlB</td>\n",
       "      <td>[B].C[Al](C)C</td>\n",
       "    </tr>\n",
       "    <tr>\n",
       "      <th>158044531</th>\n",
       "      <td>C2H6AlB</td>\n",
       "      <td>[B].C[Al]C</td>\n",
       "    </tr>\n",
       "    <tr>\n",
       "      <th>157093180</th>\n",
       "      <td>C3H9AlB</td>\n",
       "      <td>B(C)(C)C.[Al]</td>\n",
       "    </tr>\n",
       "    <tr>\n",
       "      <th>156888304</th>\n",
       "      <td>C12H14AlB</td>\n",
       "      <td>[B]C1=CC=CC=C1C2CCCCC2[Al]</td>\n",
       "    </tr>\n",
       "    <tr>\n",
       "      <th>129859217</th>\n",
       "      <td>C2H6AlB</td>\n",
       "      <td>[B].C[Al]C</td>\n",
       "    </tr>\n",
       "    <tr>\n",
       "      <th>129657578</th>\n",
       "      <td>C2H6AlB</td>\n",
       "      <td>[B-].C[Al+]C</td>\n",
       "    </tr>\n",
       "    <tr>\n",
       "      <th>129657197</th>\n",
       "      <td>CH3AlB2</td>\n",
       "      <td>[B-].[B-].C[Al+2]</td>\n",
       "    </tr>\n",
       "    <tr>\n",
       "      <th>59992955</th>\n",
       "      <td>C7H9AlB</td>\n",
       "      <td>[BH2].C1=CC=C(C=C1)C[Al]</td>\n",
       "    </tr>\n",
       "    <tr>\n",
       "      <th>22996618</th>\n",
       "      <td>C12H30AlB</td>\n",
       "      <td>B(CC)(CC)CC.CC[Al](CC)CC</td>\n",
       "    </tr>\n",
       "    <tr>\n",
       "      <th>19734271</th>\n",
       "      <td>C8H18AlB</td>\n",
       "      <td>[B-].CC(C)C[Al+]CC(C)C</td>\n",
       "    </tr>\n",
       "    <tr>\n",
       "      <th>155575130</th>\n",
       "      <td>C8H8AlB</td>\n",
       "      <td>[B]C1=CC(=C(C=C1C)[Al])C</td>\n",
       "    </tr>\n",
       "  </tbody>\n",
       "</table>\n",
       "</div>"
      ],
      "text/plain": [
       "          MolecularFormula                                    CanonicalSMILES\n",
       "CID                                                                          \n",
       "168084494          CH5AlB2                                    [BH].[BH].C[Al]\n",
       "163556649        C16H14AlB              [B]CCC1=C2CCC=CC2=C(C3=CC=CC=C31)[Al]\n",
       "161576177        C27H30AlB  [H+].[B-](C1=CC=CC=C1)(C2=CC=CC=C2)(C3=CC=CC=C...\n",
       "160352291         C6H15AlB                                   [B].CC[Al](CC)CC\n",
       "159123289       C10H28AlB2                        [B](C)C.[B](C)C.CCCC.C[Al]C\n",
       "158802573        C11H29AlB                             B(C)(C)C.CCCC.CC[Al]CC\n",
       "158250967          C3H9AlB                                      [B].C[Al](C)C\n",
       "158044531          C2H6AlB                                         [B].C[Al]C\n",
       "157093180          C3H9AlB                                      B(C)(C)C.[Al]\n",
       "156888304        C12H14AlB                         [B]C1=CC=CC=C1C2CCCCC2[Al]\n",
       "129859217          C2H6AlB                                         [B].C[Al]C\n",
       "129657578          C2H6AlB                                       [B-].C[Al+]C\n",
       "129657197          CH3AlB2                                  [B-].[B-].C[Al+2]\n",
       "59992955           C7H9AlB                           [BH2].C1=CC=C(C=C1)C[Al]\n",
       "22996618         C12H30AlB                           B(CC)(CC)CC.CC[Al](CC)CC\n",
       "19734271          C8H18AlB                             [B-].CC(C)C[Al+]CC(C)C\n",
       "155575130          C8H8AlB                           [B]C1=CC(=C(C=C1C)[Al])C"
      ]
     },
     "execution_count": 38,
     "metadata": {},
     "output_type": "execute_result"
    }
   ],
   "source": [
    "df = mf.search([\"C1-\", \"H1-\", \"B1-\", \"Al1-\"], allow_other_elements=False,properties=[\"MolecularFormula\", \"CanonicalSMILES\"])\n",
    "df"
   ]
  },
  {
   "cell_type": "code",
   "execution_count": 25,
   "id": "d70f343f-c6c6-48d8-956b-06d8d95d7c1e",
   "metadata": {},
   "outputs": [
    {
     "data": {
      "text/plain": [
       "(19, 2)"
      ]
     },
     "execution_count": 25,
     "metadata": {},
     "output_type": "execute_result"
    }
   ],
   "source": [
    "df.shape"
   ]
  },
  {
   "cell_type": "code",
   "execution_count": 17,
   "id": "e2994dff-388e-4103-a7d1-436b2f865b5f",
   "metadata": {},
   "outputs": [
    {
     "name": "stderr",
     "output_type": "stream",
     "text": [
      "2024-01-29 13:44:56,097 - pubchem_api_crawler.molecular_search - INFO - Checking status for query 1078300897660591343.\n",
      "2024-01-29 13:44:57,006 - pubchem_api_crawler.molecular_search - INFO - Query 1078300897660591343 is success.\n"
     ]
    }
   ],
   "source": [
    "res = mf._pug_search([\"C1-\", \"H1-\", \"B-\", \"Al-\"],allow_other_elements=False,properties=[\"MolecularFormula\", \"CanonicalSMILES\"])"
   ]
  },
  {
   "cell_type": "code",
   "execution_count": 29,
   "id": "25a776c8-e317-4f77-afa4-fe55343c0ec0",
   "metadata": {},
   "outputs": [
    {
     "data": {
      "text/html": [
       "<div>\n",
       "<style scoped>\n",
       "    .dataframe tbody tr th:only-of-type {\n",
       "        vertical-align: middle;\n",
       "    }\n",
       "\n",
       "    .dataframe tbody tr th {\n",
       "        vertical-align: top;\n",
       "    }\n",
       "\n",
       "    .dataframe thead th {\n",
       "        text-align: right;\n",
       "    }\n",
       "</style>\n",
       "<table border=\"1\" class=\"dataframe\">\n",
       "  <thead>\n",
       "    <tr style=\"text-align: right;\">\n",
       "      <th></th>\n",
       "    </tr>\n",
       "    <tr>\n",
       "      <th>CID</th>\n",
       "    </tr>\n",
       "  </thead>\n",
       "  <tbody>\n",
       "    <tr>\n",
       "      <th>168084494</th>\n",
       "    </tr>\n",
       "    <tr>\n",
       "      <th>163556649</th>\n",
       "    </tr>\n",
       "    <tr>\n",
       "      <th>161576177</th>\n",
       "    </tr>\n",
       "    <tr>\n",
       "      <th>160352291</th>\n",
       "    </tr>\n",
       "    <tr>\n",
       "      <th>159123289</th>\n",
       "    </tr>\n",
       "    <tr>\n",
       "      <th>158802573</th>\n",
       "    </tr>\n",
       "    <tr>\n",
       "      <th>158250967</th>\n",
       "    </tr>\n",
       "    <tr>\n",
       "      <th>158044531</th>\n",
       "    </tr>\n",
       "    <tr>\n",
       "      <th>157093180</th>\n",
       "    </tr>\n",
       "    <tr>\n",
       "      <th>156888304</th>\n",
       "    </tr>\n",
       "    <tr>\n",
       "      <th>129859217</th>\n",
       "    </tr>\n",
       "    <tr>\n",
       "      <th>129657578</th>\n",
       "    </tr>\n",
       "    <tr>\n",
       "      <th>129657197</th>\n",
       "    </tr>\n",
       "    <tr>\n",
       "      <th>59992955</th>\n",
       "    </tr>\n",
       "    <tr>\n",
       "      <th>22996618</th>\n",
       "    </tr>\n",
       "    <tr>\n",
       "      <th>19734271</th>\n",
       "    </tr>\n",
       "    <tr>\n",
       "      <th>155575130</th>\n",
       "    </tr>\n",
       "  </tbody>\n",
       "</table>\n",
       "</div>"
      ],
      "text/plain": [
       "Empty DataFrame\n",
       "Columns: []\n",
       "Index: [168084494, 163556649, 161576177, 160352291, 159123289, 158802573, 158250967, 158044531, 157093180, 156888304, 129859217, 129657578, 129657197, 59992955, 22996618, 19734271, 155575130]"
      ]
     },
     "execution_count": 29,
     "metadata": {},
     "output_type": "execute_result"
    }
   ],
   "source": [
    "res"
   ]
  },
  {
   "cell_type": "code",
   "execution_count": 35,
   "id": "4ed63a5c-674d-4afe-9588-aa197c500457",
   "metadata": {},
   "outputs": [
    {
     "name": "stdout",
     "output_type": "stream",
     "text": [
      "cid=168084494,163556649,161576177,160352291,159123289,158802573,158250967,158044531,157093180,156888304,129859217,129657578,129657197,59992955,22996618,19734271,155575130\n"
     ]
    }
   ],
   "source": [
    "mf._get_properties_for_cids(res, [\"MolecularFormula\", \"CanonicalSMILES\"])"
   ]
  },
  {
   "cell_type": "code",
   "execution_count": 36,
   "id": "846ea11d-dd64-4aab-a748-a52efa57a3bb",
   "metadata": {},
   "outputs": [
    {
     "data": {
      "text/html": [
       "<div>\n",
       "<style scoped>\n",
       "    .dataframe tbody tr th:only-of-type {\n",
       "        vertical-align: middle;\n",
       "    }\n",
       "\n",
       "    .dataframe tbody tr th {\n",
       "        vertical-align: top;\n",
       "    }\n",
       "\n",
       "    .dataframe thead th {\n",
       "        text-align: right;\n",
       "    }\n",
       "</style>\n",
       "<table border=\"1\" class=\"dataframe\">\n",
       "  <thead>\n",
       "    <tr style=\"text-align: right;\">\n",
       "      <th></th>\n",
       "      <th>MolecularFormula</th>\n",
       "      <th>CanonicalSMILES</th>\n",
       "    </tr>\n",
       "    <tr>\n",
       "      <th>CID</th>\n",
       "      <th></th>\n",
       "      <th></th>\n",
       "    </tr>\n",
       "  </thead>\n",
       "  <tbody>\n",
       "    <tr>\n",
       "      <th>168084494</th>\n",
       "      <td>CH5AlB2</td>\n",
       "      <td>[BH].[BH].C[Al]</td>\n",
       "    </tr>\n",
       "    <tr>\n",
       "      <th>163556649</th>\n",
       "      <td>C16H14AlB</td>\n",
       "      <td>[B]CCC1=C2CCC=CC2=C(C3=CC=CC=C31)[Al]</td>\n",
       "    </tr>\n",
       "    <tr>\n",
       "      <th>161576177</th>\n",
       "      <td>C27H30AlB</td>\n",
       "      <td>[H+].[B-](C1=CC=CC=C1)(C2=CC=CC=C2)(C3=CC=CC=C...</td>\n",
       "    </tr>\n",
       "    <tr>\n",
       "      <th>160352291</th>\n",
       "      <td>C6H15AlB</td>\n",
       "      <td>[B].CC[Al](CC)CC</td>\n",
       "    </tr>\n",
       "    <tr>\n",
       "      <th>159123289</th>\n",
       "      <td>C10H28AlB2</td>\n",
       "      <td>[B](C)C.[B](C)C.CCCC.C[Al]C</td>\n",
       "    </tr>\n",
       "    <tr>\n",
       "      <th>158802573</th>\n",
       "      <td>C11H29AlB</td>\n",
       "      <td>B(C)(C)C.CCCC.CC[Al]CC</td>\n",
       "    </tr>\n",
       "    <tr>\n",
       "      <th>158250967</th>\n",
       "      <td>C3H9AlB</td>\n",
       "      <td>[B].C[Al](C)C</td>\n",
       "    </tr>\n",
       "    <tr>\n",
       "      <th>158044531</th>\n",
       "      <td>C2H6AlB</td>\n",
       "      <td>[B].C[Al]C</td>\n",
       "    </tr>\n",
       "    <tr>\n",
       "      <th>157093180</th>\n",
       "      <td>C3H9AlB</td>\n",
       "      <td>B(C)(C)C.[Al]</td>\n",
       "    </tr>\n",
       "    <tr>\n",
       "      <th>156888304</th>\n",
       "      <td>C12H14AlB</td>\n",
       "      <td>[B]C1=CC=CC=C1C2CCCCC2[Al]</td>\n",
       "    </tr>\n",
       "    <tr>\n",
       "      <th>129859217</th>\n",
       "      <td>C2H6AlB</td>\n",
       "      <td>[B].C[Al]C</td>\n",
       "    </tr>\n",
       "    <tr>\n",
       "      <th>129657578</th>\n",
       "      <td>C2H6AlB</td>\n",
       "      <td>[B-].C[Al+]C</td>\n",
       "    </tr>\n",
       "    <tr>\n",
       "      <th>129657197</th>\n",
       "      <td>CH3AlB2</td>\n",
       "      <td>[B-].[B-].C[Al+2]</td>\n",
       "    </tr>\n",
       "    <tr>\n",
       "      <th>59992955</th>\n",
       "      <td>C7H9AlB</td>\n",
       "      <td>[BH2].C1=CC=C(C=C1)C[Al]</td>\n",
       "    </tr>\n",
       "    <tr>\n",
       "      <th>22996618</th>\n",
       "      <td>C12H30AlB</td>\n",
       "      <td>B(CC)(CC)CC.CC[Al](CC)CC</td>\n",
       "    </tr>\n",
       "    <tr>\n",
       "      <th>19734271</th>\n",
       "      <td>C8H18AlB</td>\n",
       "      <td>[B-].CC(C)C[Al+]CC(C)C</td>\n",
       "    </tr>\n",
       "    <tr>\n",
       "      <th>155575130</th>\n",
       "      <td>C8H8AlB</td>\n",
       "      <td>[B]C1=CC(=C(C=C1C)[Al])C</td>\n",
       "    </tr>\n",
       "  </tbody>\n",
       "</table>\n",
       "</div>"
      ],
      "text/plain": [
       "          MolecularFormula                                    CanonicalSMILES\n",
       "CID                                                                          \n",
       "168084494          CH5AlB2                                    [BH].[BH].C[Al]\n",
       "163556649        C16H14AlB              [B]CCC1=C2CCC=CC2=C(C3=CC=CC=C31)[Al]\n",
       "161576177        C27H30AlB  [H+].[B-](C1=CC=CC=C1)(C2=CC=CC=C2)(C3=CC=CC=C...\n",
       "160352291         C6H15AlB                                   [B].CC[Al](CC)CC\n",
       "159123289       C10H28AlB2                        [B](C)C.[B](C)C.CCCC.C[Al]C\n",
       "158802573        C11H29AlB                             B(C)(C)C.CCCC.CC[Al]CC\n",
       "158250967          C3H9AlB                                      [B].C[Al](C)C\n",
       "158044531          C2H6AlB                                         [B].C[Al]C\n",
       "157093180          C3H9AlB                                      B(C)(C)C.[Al]\n",
       "156888304        C12H14AlB                         [B]C1=CC=CC=C1C2CCCCC2[Al]\n",
       "129859217          C2H6AlB                                         [B].C[Al]C\n",
       "129657578          C2H6AlB                                       [B-].C[Al+]C\n",
       "129657197          CH3AlB2                                  [B-].[B-].C[Al+2]\n",
       "59992955           C7H9AlB                           [BH2].C1=CC=C(C=C1)C[Al]\n",
       "22996618         C12H30AlB                           B(CC)(CC)CC.CC[Al](CC)CC\n",
       "19734271          C8H18AlB                             [B-].CC(C)C[Al+]CC(C)C\n",
       "155575130          C8H8AlB                           [B]C1=CC(=C(C=C1C)[Al])C"
      ]
     },
     "execution_count": 36,
     "metadata": {},
     "output_type": "execute_result"
    }
   ],
   "source": [
    "res"
   ]
  },
  {
   "cell_type": "code",
   "execution_count": null,
   "id": "66103064-f526-4b7c-8bab-57671bb4f5e6",
   "metadata": {},
   "outputs": [],
   "source": []
  }
 ],
 "metadata": {
  "kernelspec": {
   "display_name": "Python 3 (ipykernel)",
   "language": "python",
   "name": "python3"
  },
  "language_info": {
   "codemirror_mode": {
    "name": "ipython",
    "version": 3
   },
   "file_extension": ".py",
   "mimetype": "text/x-python",
   "name": "python",
   "nbconvert_exporter": "python",
   "pygments_lexer": "ipython3",
   "version": "3.11.5"
  }
 },
 "nbformat": 4,
 "nbformat_minor": 5
}

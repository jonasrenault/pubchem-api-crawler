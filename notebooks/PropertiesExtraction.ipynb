{
 "cells": [
  {
   "cell_type": "markdown",
   "id": "cdea43b3-2d2c-4062-90c3-1aa4a277fef0",
   "metadata": {},
   "source": [
    "# Properties Extraction"
   ]
  },
  {
   "cell_type": "markdown",
   "id": "bf0c45cd-82c7-4dc7-ba80-4358cd96bb93",
   "metadata": {},
   "source": [
    "Start by setting up some logging"
   ]
  },
  {
   "cell_type": "code",
   "execution_count": 1,
   "id": "88b7e94b-81e3-46b4-b50a-87db717dbe47",
   "metadata": {},
   "outputs": [],
   "source": [
    "import logging\n",
    "\n",
    "logger = logging.getLogger('pubchem_api_crawler')\n",
    "logger.setLevel(logging.INFO)\n",
    "ch = logging.StreamHandler()\n",
    "ch.setFormatter(logging.Formatter('%(asctime)s - %(name)s - %(levelname)s - %(message)s'))\n",
    "logger.addHandler(ch)"
   ]
  },
  {
   "cell_type": "markdown",
   "id": "3627e53a-00b2-44ba-a84e-988fa5c5edfe",
   "metadata": {},
   "source": [
    "### Get lists of matching compounds"
   ]
  },
  {
   "cell_type": "markdown",
   "id": "64c7c629-9af5-4b9d-bb37-5418d455fd7d",
   "metadata": {},
   "source": [
    "Create a `MolecularFormulaSearch` object to search for compounds matching our queries."
   ]
  },
  {
   "cell_type": "code",
   "execution_count": 2,
   "id": "f4b3979e-334f-448d-9e9d-57aba43b0b9d",
   "metadata": {},
   "outputs": [],
   "source": [
    "from pubchem_api_crawler.molecular_search import MolecularFormulaSearch\n",
    "mf = MolecularFormulaSearch()"
   ]
  },
  {
   "cell_type": "markdown",
   "id": "111e0c36-5dc5-4ea4-92e5-0a67610eca67",
   "metadata": {},
   "source": [
    "Search for compounds made up of `C-H-Al`, `C-H-B`, `C-H-Mg`, `C-H-Al-B`, `C-H-Al-Mg`, `C-H-B-Mg`, `C-H-B-Al-Mg`."
   ]
  },
  {
   "cell_type": "code",
   "execution_count": null,
   "id": "0931ef2a-e2e2-4d29-ae9d-0a49688ebe72",
   "metadata": {},
   "outputs": [],
   "source": [
    "chal = mf.search([\"C1-500\", \"H1-500\", \"Al1-500\"], allow_other_elements=False, properties=[\"IUPACName\", \"MolecularFormula\", \"MolecularWeight\", \"CanonicalSMILES\"])\n",
    "chb = mf.search([\"C1-500\", \"H1-500\", \"B1-500\"], allow_other_elements=False, properties=[\"IUPACName\", \"MolecularFormula\", \"MolecularWeight\", \"CanonicalSMILES\"])\n",
    "chmg = mf.search([\"C1-500\", \"H1-500\", \"Mg1-500\"], allow_other_elements=False, properties=[\"IUPACName\", \"MolecularFormula\", \"MolecularWeight\", \"CanonicalSMILES\"])\n",
    "chalb = mf.search([\"C1-500\", \"H1-500\", \"Al1-500\", \"B1-500\"], allow_other_elements=False, properties=[\"IUPACName\", \"MolecularFormula\", \"MolecularWeight\", \"CanonicalSMILES\"])\n",
    "chalmg = mf.search([\"C1-500\", \"H1-500\", \"Al1-500\", \"Mg1-500\"], allow_other_elements=False, properties=[\"IUPACName\", \"MolecularFormula\", \"MolecularWeight\", \"CanonicalSMILES\"])\n",
    "chbmg = mf.search([\"C1-500\", \"H1-500\", \"B1-500\", \"Mg1-500\"], allow_other_elements=False, properties=[\"IUPACName\", \"MolecularFormula\", \"MolecularWeight\", \"CanonicalSMILES\"])\n",
    "chbalmg = mf.search([\"C1-500\", \"H1-500\", \"B1-500\", \"Al1-500\", \"Mg1-500\"], allow_other_elements=False, properties=[\"IUPACName\", \"MolecularFormula\", \"MolecularWeight\", \"CanonicalSMILES\"])"
   ]
  },
  {
   "cell_type": "markdown",
   "id": "9c73c7bf-8b11-4ca8-a585-5597369dde31",
   "metadata": {},
   "source": [
    "For `C-H` compounds, use an async search to be able to get all results."
   ]
  },
  {
   "cell_type": "code",
   "execution_count": null,
   "id": "57045d0c-5648-4fa1-96be-ceedf9e8aa39",
   "metadata": {},
   "outputs": [],
   "source": [
    "ch = mf.search([\"C1-500\", \"H1-500\"], allow_other_elements=False, properties=[\"IUPACName\", \"MolecularFormula\", \"MolecularWeight\", \"CanonicalSMILES\"], _async=True)"
   ]
  },
  {
   "cell_type": "markdown",
   "id": "bafbb8ed-4a22-40f9-9f32-e3170829d55f",
   "metadata": {},
   "source": [
    "Let's save our dataframes to csv files."
   ]
  },
  {
   "cell_type": "code",
   "execution_count": 3,
   "id": "5836ba83-3a66-4da6-81a6-86a6d0dcf900",
   "metadata": {},
   "outputs": [],
   "source": [
    "from pathlib import Path\n",
    "\n",
    "output_dir = Path() / \"output\"\n",
    "output_dir.mkdir(parents=True, exist_ok=True)"
   ]
  },
  {
   "cell_type": "code",
   "execution_count": 4,
   "id": "66967650-316c-4331-8d39-14a7f058c492",
   "metadata": {},
   "outputs": [
    {
     "ename": "NameError",
     "evalue": "name 'chal' is not defined",
     "output_type": "error",
     "traceback": [
      "\u001b[0;31m---------------------------------------------------------------------------\u001b[0m",
      "\u001b[0;31mNameError\u001b[0m                                 Traceback (most recent call last)",
      "Cell \u001b[0;32mIn[4], line 1\u001b[0m\n\u001b[0;32m----> 1\u001b[0m \u001b[43mchal\u001b[49m\u001b[38;5;241m.\u001b[39mto_csv(output_dir \u001b[38;5;241m/\u001b[39m \u001b[38;5;124m\"\u001b[39m\u001b[38;5;124mCHAl.csv\u001b[39m\u001b[38;5;124m\"\u001b[39m, index\u001b[38;5;241m=\u001b[39m\u001b[38;5;28;01mFalse\u001b[39;00m)\n\u001b[1;32m      2\u001b[0m chb\u001b[38;5;241m.\u001b[39mto_csv(output_dir \u001b[38;5;241m/\u001b[39m \u001b[38;5;124m\"\u001b[39m\u001b[38;5;124mCHB.csv\u001b[39m\u001b[38;5;124m\"\u001b[39m, index\u001b[38;5;241m=\u001b[39m\u001b[38;5;28;01mFalse\u001b[39;00m)\n\u001b[1;32m      3\u001b[0m chmg\u001b[38;5;241m.\u001b[39mto_csv(output_dir \u001b[38;5;241m/\u001b[39m \u001b[38;5;124m\"\u001b[39m\u001b[38;5;124mCHMg.csv\u001b[39m\u001b[38;5;124m\"\u001b[39m, index\u001b[38;5;241m=\u001b[39m\u001b[38;5;28;01mFalse\u001b[39;00m)\n",
      "\u001b[0;31mNameError\u001b[0m: name 'chal' is not defined"
     ]
    }
   ],
   "source": [
    "chal.to_csv(output_dir / \"CHAl.csv\", index=False)\n",
    "chb.to_csv(output_dir / \"CHB.csv\", index=False)\n",
    "chmg.to_csv(output_dir / \"CHMg.csv\", index=False)\n",
    "chalb.to_csv(output_dir / \"CHAlB.csv\", index=False)\n",
    "chalmg.to_csv(output_dir / \"CHAlMg.csv\", index=False)\n",
    "chbmg.to_csv(output_dir / \"CHBMg.csv\", index=False)\n",
    "ch.to_csv(output_dir / \"CH.csv\", index=False)"
   ]
  },
  {
   "cell_type": "code",
   "execution_count": 5,
   "id": "47629694-10b8-4980-b6f2-fd9443204c2b",
   "metadata": {},
   "outputs": [],
   "source": [
    "import pandas as pd\n",
    "\n",
    "chal = pd.read_csv(output_dir / \"CHAl.csv\")\n",
    "chb = pd.read_csv(output_dir / \"CHB.csv\")\n",
    "chmg = pd.read_csv(output_dir / \"CHMg.csv\")\n",
    "chalb = pd.read_csv(output_dir / \"CHAlB.csv\")\n",
    "chalmg = pd.read_csv(output_dir / \"CHAlMg.csv\")\n",
    "chbmg = pd.read_csv(output_dir / \"CHBMg.csv\")\n",
    "ch = pd.read_csv(output_dir / \"CH.csv\")"
   ]
  },
  {
   "cell_type": "markdown",
   "id": "82fbd60e-781a-41b3-b037-5d1668314b3b",
   "metadata": {},
   "source": [
    "### Get the experimental properties for our matching compounds"
   ]
  },
  {
   "cell_type": "markdown",
   "id": "6b0acab5-8c71-46b7-9a28-4872a78e5a23",
   "metadata": {},
   "source": [
    "For small result sets, we can loop through all the elements and get their experimental properties."
   ]
  },
  {
   "cell_type": "code",
   "execution_count": 6,
   "id": "55f95350-b28e-4639-abeb-00659dc8e6df",
   "metadata": {},
   "outputs": [],
   "source": [
    "from pubchem_api_crawler.annotations import Annotations\n",
    "an = Annotations()"
   ]
  },
  {
   "cell_type": "code",
   "execution_count": null,
   "id": "9c14a5b8-9e9e-4a9c-9224-cbe9a9fc6247",
   "metadata": {},
   "outputs": [],
   "source": [
    "chbmg_props = an.get_compound_annotations(chbmg)\n",
    "chalmg_props = an.get_compound_annotations(chalmg)\n",
    "chalb_props = an.get_compound_annotations(chalb)"
   ]
  },
  {
   "cell_type": "markdown",
   "id": "72ae1bcf-9317-44b3-b838-16f857a0c48b",
   "metadata": {},
   "source": [
    "PubChem doesn't have any annotations for these compounds... And for the other groups, there are too many compounds to fetch all their annotations one by one. Instead, we'll select some annotations of interest and fetch all the data PubChem has for them."
   ]
  },
  {
   "cell_type": "code",
   "execution_count": 7,
   "id": "782a5786-6069-4faf-a801-803d4b685a6d",
   "metadata": {},
   "outputs": [],
   "source": [
    "HEADINGS = [\n",
    "    'Boiling Point',\n",
    "    'Melting Point',\n",
    "    'Flash Point',\n",
    "#    'Solubility',\n",
    "    'Density',\n",
    "    'Vapor Pressure',\n",
    "    'Autoignition Temperature',\n",
    "    'Viscosity',\n",
    "    'Heat of Combustion',\n",
    "    'Heat of Vaporization',\n",
    "    'Critical Temperature & Pressure',\n",
    "    'Toxicity Data',\n",
    "    'Other Experimental Properties',\n",
    "]"
   ]
  },
  {
   "cell_type": "code",
   "execution_count": 8,
   "id": "83561b57-e19a-46dc-b6a8-6fbe2ea61950",
   "metadata": {},
   "outputs": [],
   "source": [
    "from string import ascii_letters\n",
    "import pandas as pd\n",
    "\n",
    "def get_annotations_for_headings(headings: list[str]) -> dict[str, pd.DataFrame]:\n",
    "    annotations = {}\n",
    "    for heading in HEADINGS:\n",
    "        fname = output_dir / (\"\".join([w[0] for w in heading.split() if w[0] in ascii_letters]) + \"_props.csv\")\n",
    "        if fname.exists():\n",
    "            annotations[heading] = pd.read_csv(fname)\n",
    "        else:\n",
    "            df = an.get_annotations(heading)\n",
    "            df.to_csv(fname, index=False)\n",
    "            annotations[heading] = df\n",
    "        prefix = \"_\".join(heading.split()) + \"_\"\n",
    "        annotations[heading].columns = (prefix + c if c != \"CID\" else c for c in annotations[heading].columns)\n",
    "    \n",
    "    return annotations"
   ]
  },
  {
   "cell_type": "code",
   "execution_count": 9,
   "id": "8a198509-e02e-4b40-aae0-d597f18c0b83",
   "metadata": {},
   "outputs": [],
   "source": [
    "annotations = get_annotations_for_headings(HEADINGS)"
   ]
  },
  {
   "cell_type": "code",
   "execution_count": 10,
   "id": "64b49e26-0fd8-4f8e-b969-e269f0f23cd6",
   "metadata": {},
   "outputs": [],
   "source": [
    "def merge_annotations(compounds: pd.DataFrame, annotations: dict[str, pd.DataFrame]):\n",
    "    annotated = None\n",
    "    for annotation in annotations.values():\n",
    "        if annotated is None:\n",
    "            annotated = compounds.merge(annotation, how=\"left\", on=\"CID\")\n",
    "        else:\n",
    "            annotated = annotated.merge(annotation, how=\"left\", on=\"CID\")\n",
    "\n",
    "    # keep only rows with at least one non null annotated property\n",
    "    annotated = annotated[~annotated[annotated.columns.difference(['CID', 'MolecularFormula', \"MolecularWeight\", \"CanonicalSMILES\", \"IUPACName\"])].isnull().all(axis=1)]\n",
    "\n",
    "    return annotated"
   ]
  },
  {
   "cell_type": "code",
   "execution_count": 16,
   "id": "92929c2c-8249-4e2e-8a04-a4e8e3e3902e",
   "metadata": {},
   "outputs": [],
   "source": [
    "chal_annotated = merge_annotations(chal, annotations)\n",
    "chb_annotated = merge_annotations(chb, annotations)\n",
    "chmg_annotated = merge_annotations(chmg, annotations)\n",
    "ch_annotated = merge_annotations(ch, annotations)"
   ]
  },
  {
   "cell_type": "code",
   "execution_count": null,
   "id": "76ab3946-75ff-4950-9d22-ad4d8fbcd4b7",
   "metadata": {},
   "outputs": [],
   "source": [
    "pd.set_option('display.max_columns', None)\n",
    "\n",
    "chmg_annotated"
   ]
  },
  {
   "cell_type": "code",
   "execution_count": 15,
   "id": "9a23347f-4a11-4935-b2d1-93e99aa6e455",
   "metadata": {},
   "outputs": [
    {
     "data": {
      "text/plain": [
       "0       C12H27Al\n",
       "320      C6H15Al\n",
       "640       C3H9Al\n",
       "641     C30H63Al\n",
       "644     C48H99Al\n",
       "647     C36H75Al\n",
       "650     C42H87Al\n",
       "653    C60H123Al\n",
       "657     C18H39Al\n",
       "661     C24H51Al\n",
       "Name: MolecularFormula, dtype: object"
      ]
     },
     "execution_count": 15,
     "metadata": {},
     "output_type": "execute_result"
    }
   ],
   "source": [
    "chal_annotated[\"MolecularFormula\"].drop_duplicates()"
   ]
  },
  {
   "cell_type": "code",
   "execution_count": 18,
   "id": "847d3cce-bed6-4912-af2a-8b1ad65ee7a7",
   "metadata": {},
   "outputs": [
    {
     "data": {
      "text/plain": [
       "263351     C15H24\n",
       "269779     C13H12\n",
       "269786     C16H24\n",
       "269789     C40H58\n",
       "270683     C33H68\n",
       "            ...  \n",
       "5558078      C2H6\n",
       "5561319    C20H16\n",
       "5562072    C15H18\n",
       "5564076    C21H16\n",
       "6127144       CH4\n",
       "Name: MolecularFormula, Length: 149, dtype: object"
      ]
     },
     "execution_count": 18,
     "metadata": {},
     "output_type": "execute_result"
    }
   ],
   "source": [
    "ch_annotated[\"MolecularFormula\"].drop_duplicates()"
   ]
  },
  {
   "cell_type": "code",
   "execution_count": null,
   "id": "844d24f7-2467-4aa5-a8d0-cc2d5d1c9482",
   "metadata": {},
   "outputs": [],
   "source": []
  }
 ],
 "metadata": {
  "kernelspec": {
   "display_name": "Python 3 (ipykernel)",
   "language": "python",
   "name": "python3"
  },
  "language_info": {
   "codemirror_mode": {
    "name": "ipython",
    "version": 3
   },
   "file_extension": ".py",
   "mimetype": "text/x-python",
   "name": "python",
   "nbconvert_exporter": "python",
   "pygments_lexer": "ipython3",
   "version": "3.11.5"
  }
 },
 "nbformat": 4,
 "nbformat_minor": 5
}
